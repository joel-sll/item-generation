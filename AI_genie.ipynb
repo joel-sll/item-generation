{
 "cells": [
  {
   "cell_type": "code",
   "execution_count": 40,
   "metadata": {},
   "outputs": [],
   "source": [
    "from langchain_community.llms import Ollama\n",
    "from langchain.embeddings import OllamaEmbeddings\n",
    "from langchain_community.chat_models import ChatOllama\n",
    "from langchain.schema import SystemMessage, HumanMessage\n",
    "from sklearn.metrics.pairwise import cosine_similarity\n",
    "import numpy as np\n",
    "import networkx as nx\n",
    "import itertools\n",
    "\n",
    "llm = Ollama(model=\"mistral\")"
   ]
  },
  {
   "cell_type": "markdown",
   "metadata": {},
   "source": [
    "# Setup"
   ]
  },
  {
   "cell_type": "code",
   "execution_count": 41,
   "metadata": {},
   "outputs": [],
   "source": [
    "big5_characteristics = {\n",
    "    \"Openness\": \"creative, perceptual, curious and philosophical\",\n",
    "    \"Conscientiousness\": \"organized, responsible, disciplined and prudent\",\n",
    "    \"Neuroticism\": \"anxious, depressed, insecure and emotional\",\n",
    "    \"Agreeableness\": \"cooperative, compasionnate, trustworthy and humble\",\n",
    "    \"Extraversion\": \"friendly, positive, assertive and energetic\"\n",
    "}"
   ]
  },
  {
   "cell_type": "code",
   "execution_count": 42,
   "metadata": {},
   "outputs": [],
   "source": [
    "role = \"a helpful, expert personality methodologist who generates items for each of the Big Five Personality traits. You know how to carefully craft succinct items that meaningfully target the many aspects of a given trait.\""
   ]
  },
  {
   "cell_type": "markdown",
   "metadata": {},
   "source": [
    "# Génération des items"
   ]
  },
  {
   "cell_type": "code",
   "execution_count": 43,
   "metadata": {},
   "outputs": [],
   "source": [
    "chat = ChatOllama(model=\"mistral\")\n",
    "responses = {}\n",
    "for trait, characteristics in big5_characteristics.items():\n",
    "    instructions = f\"\"\"\n",
    "Generate a total of eight NEW items that assess one’s level of {trait}. Here are the\n",
    "characteristics of {trait}: {characteristics}. Generate exactly TWO items per\n",
    "characteristic. It is VERY important that you generate EXACTLY eight TOTAL items in\n",
    "the CORRECT formatting. FOLLOW this format EXACTLY for each item: :: Do NOT\n",
    "add any characteristics. Do NOT leave any out. The stem ‘I am someone who’ MUST\n",
    "be explicitly written out at the beginning of each item. Separate items using \\n. Do NOT\n",
    "number the items. Lastly, be creative and explore novel ideas!\n",
    "\n",
    "example1:\n",
    "I am someone who is compassionate, has a soft heart.\n",
    "\n",
    "example2:\n",
    "I am someone who starts arguments with others.\n",
    "\"\"\"\n",
    "    # Set role and instructions\n",
    "    messages = [\n",
    "        SystemMessage(content=role),\n",
    "        HumanMessage(content=instructions)\n",
    "    ]\n",
    "\n",
    "    response = chat.invoke(messages)\n",
    "    responses[trait] = response.content.split(\"\\n  \")\n",
    "    break"
   ]
  },
  {
   "cell_type": "code",
   "execution_count": 44,
   "metadata": {},
   "outputs": [
    {
     "data": {
      "text/plain": [
       "{'Openness': ['1. I am someone who often finds myself daydreaming about abstract concepts or future possibilities.\\n',\n",
       "  ' 2. I am someone who enjoys exploring new ideas and perspectives, even if they challenge my current beliefs.\\n',\n",
       "  ' 3. I am someone who appreciates artistic and cultural activities like attending concerts, visiting museums, or reading books from different genres.\\n',\n",
       "  ' 4. I am someone who tends to see things from multiple angles and considers various viewpoints before making decisions.\\n',\n",
       "  \" 5. I am someone who enjoys learning new skills, whether it's a foreign language, playing an instrument, or mastering a new software.\\n\",\n",
       "  ' 6. I am someone who is open-minded about new experiences and opportunities, frequently seeking out novel adventures.\\n',\n",
       "  ' 7. I am someone who tends to be imaginative and creative in problem-solving, often coming up with unique solutions that others might not consider.\\n',\n",
       "  ' 8. I am someone who enjoys engaging in philosophical discussions about the nature of reality, consciousness, or morality.']}"
      ]
     },
     "execution_count": 44,
     "metadata": {},
     "output_type": "execute_result"
    }
   ],
   "source": [
    "responses"
   ]
  },
  {
   "cell_type": "markdown",
   "metadata": {},
   "source": [
    "# Encodage des items"
   ]
  },
  {
   "cell_type": "code",
   "execution_count": 45,
   "metadata": {},
   "outputs": [],
   "source": [
    "# setting up the embedding model\n",
    "embedding_model = OllamaEmbeddings(model=\"mistral\")\n",
    "\n",
    "trait_embeddings = dict()\n",
    "\n",
    "for trait, items in responses.items():\n",
    "    # Get the embedding\n",
    "    items_embeddings = [embedding_model.embed_query([item]) for item in items]\n",
    "    trait_embeddings[trait] = items_embeddings\n",
    "\n",
    "embeddings_list = [embedding for embedding_list in trait_embeddings.values() for embedding in embedding_list]\n",
    "\n",
    "similarity_matrix = cosine_similarity(embeddings_list)"
   ]
  },
  {
   "cell_type": "code",
   "execution_count": 46,
   "metadata": {},
   "outputs": [
    {
     "data": {
      "text/plain": [
       "array([[1.        , 0.96187124, 0.9553633 , 0.96090042, 0.91264115,\n",
       "        0.95929188, 0.95834501, 0.87563361],\n",
       "       [0.96187124, 1.        , 0.97041953, 0.97634778, 0.94892492,\n",
       "        0.97590125, 0.97815568, 0.90686605],\n",
       "       [0.9553633 , 0.97041953, 1.        , 0.97759384, 0.92040837,\n",
       "        0.98115128, 0.96030357, 0.88351191],\n",
       "       [0.96090042, 0.97634778, 0.97759384, 1.        , 0.92199883,\n",
       "        0.98906317, 0.9697    , 0.89266981],\n",
       "       [0.91264115, 0.94892492, 0.92040837, 0.92199883, 1.        ,\n",
       "        0.92077411, 0.94332399, 0.90954205],\n",
       "       [0.95929188, 0.97590125, 0.98115128, 0.98906317, 0.92077411,\n",
       "        1.        , 0.9636793 , 0.89842896],\n",
       "       [0.95834501, 0.97815568, 0.96030357, 0.9697    , 0.94332399,\n",
       "        0.9636793 , 1.        , 0.9011643 ],\n",
       "       [0.87563361, 0.90686605, 0.88351191, 0.89266981, 0.90954205,\n",
       "        0.89842896, 0.9011643 , 1.        ]])"
      ]
     },
     "execution_count": 46,
     "metadata": {},
     "output_type": "execute_result"
    }
   ],
   "source": [
    "similarity_matrix"
   ]
  },
  {
   "cell_type": "markdown",
   "metadata": {},
   "source": []
  },
  {
   "cell_type": "markdown",
   "metadata": {},
   "source": [
    "# TMFG"
   ]
  },
  {
   "cell_type": "markdown",
   "metadata": {},
   "source": [
    "## Finding the base tetrahedron (4 closest items)"
   ]
  },
  {
   "cell_type": "code",
   "execution_count": 47,
   "metadata": {},
   "outputs": [],
   "source": [
    "dim = len(embeddings_list)\n",
    "\n",
    "labels = [\"A\", \"B\", \"C\", \"D\", \"E\", \"F\", \"G\", \"H\"]\n",
    "\n",
    "quaduplets = list(itertools.combinations(labels, 4))\n",
    "\n",
    "best_quaduplet = None\n",
    "best_similarity = -1\n",
    "\n",
    "for quaduplet in quaduplets:\n",
    "    i, j, k, l= [labels.index(t) for t in quaduplet]\n",
    "    similarity = [\n",
    "        similarity_matrix[i,j],\n",
    "        similarity_matrix[i,k],\n",
    "        similarity_matrix[i,l],\n",
    "        similarity_matrix[j,k],\n",
    "        similarity_matrix[j,l],\n",
    "        similarity_matrix[k,l]\n",
    "    ]\n",
    "\n",
    "    min_similarity = min(similarity)\n",
    "\n",
    "    if min_similarity > best_similarity:\n",
    "        best_similarity = min_similarity\n",
    "        best_quaduplet = (i, j, k, l)"
   ]
  },
  {
   "cell_type": "code",
   "execution_count": 93,
   "metadata": {},
   "outputs": [],
   "source": [
    "Clique1 = best_quaduplet\n",
    "Triangles = list(itertools.combinations(best_quaduplet, 3))\n",
    "Vertices = set(range(dim)).difference(set(best_quaduplet))\n",
    "Separators = list()\n",
    "cliques = [Clique1]\n",
    "P = similarity_matrix[np.ix_(best_quaduplet, best_quaduplet)]"
   ]
  },
  {
   "cell_type": "code",
   "execution_count": 94,
   "metadata": {},
   "outputs": [],
   "source": [
    "Maxgain = {triangle:None for triangle in Triangles}\n"
   ]
  },
  {
   "cell_type": "code",
   "execution_count": 95,
   "metadata": {},
   "outputs": [],
   "source": [
    "Maxgain = list()\n",
    "Bestvertices = list()\n",
    "for triangle in Triangles:\n",
    "    best_vertex = np.argmax(np.sum(similarity_matrix[np.ix_(triangle, list(Vertices))], axis=0))\n",
    "    Bestvertices.append(best_vertex)\n",
    "    Maxgain.append(np.sum(similarity_matrix[np.ix_(triangle, list(Vertices))], axis=0)[best_vertex])"
   ]
  },
  {
   "cell_type": "code",
   "execution_count": 96,
   "metadata": {},
   "outputs": [],
   "source": [
    "while Vertices != set():\n",
    "    maxgain_index = np.argmax(Maxgain)\n",
    "    best_vertex = Bestvertices.pop(maxgain_index)\n",
    "    triangle = Triangles.pop(maxgain_index)\n",
    "    break\n",
    "    "
   ]
  },
  {
   "cell_type": "code",
   "execution_count": 97,
   "metadata": {},
   "outputs": [
    {
     "data": {
      "text/plain": [
       "np.int64(2)"
      ]
     },
     "execution_count": 97,
     "metadata": {},
     "output_type": "execute_result"
    }
   ],
   "source": [
    "best_vertex"
   ]
  },
  {
   "cell_type": "code",
   "execution_count": 98,
   "metadata": {},
   "outputs": [],
   "source": [
    "best_vertices = [vertex for vertex in triangle] + [int(best_vertex)]\n",
    "best_triangles = list(itertools.combinations(best_vertices,3))\n",
    "best_triangles.remove(triangle)\n",
    "best_triangles\n",
    "Triangles.append(best_triangles)\n"
   ]
  },
  {
   "cell_type": "code",
   "execution_count": 99,
   "metadata": {},
   "outputs": [],
   "source": [
    "Separators.append(triangle)"
   ]
  },
  {
   "cell_type": "code",
   "execution_count": 100,
   "metadata": {},
   "outputs": [
    {
     "data": {
      "text/plain": [
       "[(1, 3, 5)]"
      ]
     },
     "execution_count": 100,
     "metadata": {},
     "output_type": "execute_result"
    }
   ],
   "source": [
    "Separators"
   ]
  }
 ],
 "metadata": {
  "kernelspec": {
   "display_name": "env",
   "language": "python",
   "name": "python3"
  },
  "language_info": {
   "codemirror_mode": {
    "name": "ipython",
    "version": 3
   },
   "file_extension": ".py",
   "mimetype": "text/x-python",
   "name": "python",
   "nbconvert_exporter": "python",
   "pygments_lexer": "ipython3",
   "version": "3.12.3"
  }
 },
 "nbformat": 4,
 "nbformat_minor": 2
}
