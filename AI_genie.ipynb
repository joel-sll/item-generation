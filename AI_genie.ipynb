{
 "cells": [
  {
   "cell_type": "code",
   "execution_count": 325,
   "metadata": {},
   "outputs": [],
   "source": [
    "from langchain_community.llms import Ollama\n",
    "from langchain.embeddings import OllamaEmbeddings\n",
    "from langchain_community.chat_models import ChatOllama\n",
    "from langchain.schema import SystemMessage, HumanMessage\n",
    "from sklearn.metrics.pairwise import cosine_similarity\n",
    "import numpy as np\n",
    "import networkx as nx\n",
    "import itertools\n",
    "import json\n",
    "import os\n",
    "\n",
    "llm = Ollama(model=\"mistral\")"
   ]
  },
  {
   "cell_type": "markdown",
   "metadata": {},
   "source": [
    "# Setup"
   ]
  },
  {
   "cell_type": "code",
   "execution_count": 326,
   "metadata": {},
   "outputs": [],
   "source": [
    "big5_characteristics = {\n",
    "    \"Openness\": \"creative, perceptual, curious and philosophical\",\n",
    "    \"Conscientiousness\": \"organized, responsible, disciplined and prudent\",\n",
    "    \"Neuroticism\": \"anxious, depressed, insecure and emotional\",\n",
    "    \"Agreeableness\": \"cooperative, compasionnate, trustworthy and humble\",\n",
    "    \"Extraversion\": \"friendly, positive, assertive and energetic\"\n",
    "}"
   ]
  },
  {
   "cell_type": "code",
   "execution_count": 327,
   "metadata": {},
   "outputs": [],
   "source": [
    "role = \"a helpful, expert personality methodologist who generates items for each of the Big Five Personality traits. You know how to carefully craft succinct items that meaningfully target the many aspects of a given trait.\""
   ]
  },
  {
   "cell_type": "markdown",
   "metadata": {},
   "source": [
    "# Génération des items"
   ]
  },
  {
   "cell_type": "code",
   "execution_count": 328,
   "metadata": {},
   "outputs": [],
   "source": [
    "if os.path.isfile(\"items_dict.json\"):\n",
    "    with open(\"items_dict.json\", \"r\") as f:\n",
    "        responses = json.load(f)\n",
    "else:\n",
    "    chat = ChatOllama(model=\"mistral\")\n",
    "    responses = {}\n",
    "    for trait, characteristics in big5_characteristics.items():\n",
    "        instructions = f\"\"\"\n",
    "    Generate a total of eight NEW items that assess one’s level of {trait}. Here are the\n",
    "    characteristics of {trait}: {characteristics}. Generate exactly TWO items per\n",
    "    characteristic. It is VERY important that you generate EXACTLY eight TOTAL items in\n",
    "    the CORRECT formatting. FOLLOW this format EXACTLY for each item: :: Do NOT\n",
    "    add any characteristics. Do NOT leave any out. The stem ‘I am someone who’ MUST\n",
    "    be explicitly written out at the beginning of each item. Separate items using \\n. Do NOT\n",
    "    number the items. Lastly, be creative and explore novel ideas!\n",
    "\n",
    "    example1:\n",
    "    I am someone who is compassionate, has a soft heart.\n",
    "\n",
    "    example2:\n",
    "    I am someone who starts arguments with others.\n",
    "    \"\"\"\n",
    "        # Set role and instructions\n",
    "        messages = [\n",
    "            SystemMessage(content=role),\n",
    "            HumanMessage(content=instructions)\n",
    "        ]\n",
    "\n",
    "        response = chat.invoke(messages)\n",
    "        responses[trait] = response.content.split(\"\\n  \")\n",
    "    with open(\"items_dict.json\", \"w\") as f:\n",
    "        json.dump(responses, f)"
   ]
  },
  {
   "cell_type": "code",
   "execution_count": 329,
   "metadata": {},
   "outputs": [
    {
     "data": {
      "text/plain": [
       "{'Openness': ['1. I am someone who often finds myself lost in thought about abstract concepts and theories.\\n',\n",
       "  '2. I am someone who enjoys pondering the meaning of life and the universe.\\n',\n",
       "  '3. I am someone who frequently engages in activities that require creativity, such as painting or writing.\\n',\n",
       "  '4. I am someone who is always seeking out new experiences, whether they be cultural, intellectual, or sensory.\\n',\n",
       "  '5. I am someone who values and appreciates art, music, and literature from various cultures and periods.\\n',\n",
       "  '6. I am someone who often daydreams about alternative realities or ideas.\\n',\n",
       "  '7. I am someone who is always eager to learn new things, especially when it comes to unfamiliar topics or ideas.\\n',\n",
       "  '8. I am someone who values intellectual stimulation and is not content with routine or mundane activities.'],\n",
       " 'Conscientiousness': ['1. I am someone who values organization and efficiency in my daily tasks.',\n",
       "  '2. I am someone who always completes assignments or projects before their deadline.\\n',\n",
       "  '3. I am someone who is diligent in maintaining a tidy and well-kept living space.',\n",
       "  '4. I am someone who follows through with commitments, even when they require effort.\\n',\n",
       "  '5. I am someone who consistently demonstrates self-discipline by sticking to routines or plans.',\n",
       "  '6. I am someone who makes an effort to plan and prepare for potential obstacles in advance.\\n',\n",
       "  '7. I am someone who is cautious and thoughtful when making decisions, considering the long-term consequences.',\n",
       "  '8. I am someone who prioritizes prudence and financial responsibility, saving money and budgeting effectively.'],\n",
       " 'Neuroticism': ['1. I am someone who frequently experiences feelings of anxiety and worry.',\n",
       "  '2. I am someone who finds it difficult to relax or unwind after a stressful event.\\n',\n",
       "  '3. I am someone who often feels sad, melancholic, or downhearted.',\n",
       "  '4. I am someone who has periods when I feel depressed and hopeless about the future.\\n',\n",
       "  '5. I am someone who tends to doubt myself and my abilities in various situations.',\n",
       "  '6. I am someone who is prone to feeling insecure, especially in new or unfamiliar settings.\\n',\n",
       "  '7. I am someone who reacts strongly and emotionally to changes or difficulties in life.',\n",
       "  '8. I am someone who can easily become upset over seemingly small matters.'],\n",
       " 'Agreeableness': ['1. I am someone who goes out of my way to help others in need.',\n",
       "  '2. I am someone who prioritizes understanding and empathy when interacting with others.\\n',\n",
       "  '3. I am someone who finds it easy to trust strangers.',\n",
       "  '4. I am someone who values fairness and equality in all situations.\\n',\n",
       "  '5. I am someone who often seeks common ground with others to resolve conflicts peacefully.',\n",
       "  '6. I am someone who takes time to listen carefully when others are speaking.\\n',\n",
       "  '7. I am someone who finds joy in making others feel comfortable and at ease.',\n",
       "  '8. I am someone who avoids taking part in office politics or gossip.'],\n",
       " 'Extraversion': ['1. I am someone who enjoys socializing in groups and making new acquaintances.',\n",
       "  '2. I am someone who finds it easy to strike up conversations with strangers.\\n',\n",
       "  '3. I am someone who is generally optimistic and sees the positive side of situations.',\n",
       "  '4. I am someone who can easily express my thoughts and feelings openly.\\n',\n",
       "  '5. I am someone who is assertive in expressing my ideas and opinions, even in group settings.',\n",
       "  '6. I am someone who tends to take the lead when making decisions or solving problems.\\n',\n",
       "  '7. I am someone who is energetic and active, often seeking out new experiences and adventures.',\n",
       "  '8. I am someone who prefers busy environments filled with people and activity rather than solitude.']}"
      ]
     },
     "execution_count": 329,
     "metadata": {},
     "output_type": "execute_result"
    }
   ],
   "source": [
    "responses"
   ]
  },
  {
   "cell_type": "markdown",
   "metadata": {},
   "source": [
    "# Encodage des items"
   ]
  },
  {
   "cell_type": "code",
   "execution_count": 330,
   "metadata": {},
   "outputs": [],
   "source": [
    "# setting up the embedding model\n",
    "embedding_model = OllamaEmbeddings(model=\"mistral\")\n",
    "\n",
    "trait_embeddings = dict()\n",
    "\n",
    "for trait, items in responses.items():\n",
    "    # Get the embedding\n",
    "    items_embeddings = [embedding_model.embed_query([item.replace(\"I am someone who \", \"\")]) for item in items]\n",
    "    trait_embeddings[trait] = items_embeddings\n",
    "\n",
    "embeddings_list = [embedding for embedding_list in trait_embeddings.values() for embedding in embedding_list]\n",
    "\n",
    "similarity_matrix = cosine_similarity(embeddings_list)"
   ]
  },
  {
   "cell_type": "code",
   "execution_count": 331,
   "metadata": {},
   "outputs": [
    {
     "data": {
      "text/plain": [
       "array([[1.        , 0.96158119, 0.95709082, ..., 0.94490946, 0.86045818,\n",
       "        0.83542246],\n",
       "       [0.96158119, 1.        , 0.96874459, ..., 0.95129384, 0.87480012,\n",
       "        0.85443881],\n",
       "       [0.95709082, 0.96874459, 1.        , ..., 0.96894289, 0.90509717,\n",
       "        0.88260029],\n",
       "       ...,\n",
       "       [0.94490946, 0.95129384, 0.96894289, ..., 1.        , 0.90880183,\n",
       "        0.89517571],\n",
       "       [0.86045818, 0.87480012, 0.90509717, ..., 0.90880183, 1.        ,\n",
       "        0.97171329],\n",
       "       [0.83542246, 0.85443881, 0.88260029, ..., 0.89517571, 0.97171329,\n",
       "        1.        ]], shape=(40, 40))"
      ]
     },
     "execution_count": 331,
     "metadata": {},
     "output_type": "execute_result"
    }
   ],
   "source": [
    "similarity_matrix"
   ]
  },
  {
   "cell_type": "markdown",
   "metadata": {},
   "source": []
  },
  {
   "cell_type": "markdown",
   "metadata": {},
   "source": [
    "# TMFG"
   ]
  },
  {
   "cell_type": "markdown",
   "metadata": {},
   "source": [
    "## Finding the base tetrahedron (4 closest items)"
   ]
  },
  {
   "cell_type": "code",
   "execution_count": 339,
   "metadata": {},
   "outputs": [],
   "source": [
    "dim = len(embeddings_list)\n",
    "\n",
    "labels = [i for i in range(40)]\n",
    "\n",
    "quaduplets = list(itertools.combinations(labels, 4))\n",
    "\n",
    "best_quaduplet = None\n",
    "best_similarity = -1\n",
    "\n",
    "for quaduplet in quaduplets:\n",
    "    i, j, k, l= [labels.index(t) for t in quaduplet]\n",
    "    similarity = [\n",
    "        similarity_matrix[i,j],\n",
    "        similarity_matrix[i,k],\n",
    "        similarity_matrix[i,l],\n",
    "        similarity_matrix[j,k],\n",
    "        similarity_matrix[j,l],\n",
    "        similarity_matrix[k,l]\n",
    "    ]\n",
    "\n",
    "    min_similarity = min(similarity)\n",
    "\n",
    "    if min_similarity > best_similarity:\n",
    "        best_similarity = min_similarity\n",
    "        best_quaduplet = (i, j, k, l)"
   ]
  },
  {
   "cell_type": "code",
   "execution_count": 393,
   "metadata": {},
   "outputs": [],
   "source": [
    "Clique1 = best_quaduplet\n",
    "Triangles = list(itertools.combinations(best_quaduplet, 3))\n",
    "Vertices = set(range(dim)).difference(set(best_quaduplet))\n",
    "Separators = list()\n",
    "cliques = [Clique1]\n",
    "P = np.zeros_like(similarity_matrix)\n",
    "P[np.ix_(best_quaduplet, best_quaduplet)] = similarity_matrix[np.ix_(best_quaduplet, best_quaduplet)]"
   ]
  },
  {
   "cell_type": "code",
   "execution_count": 394,
   "metadata": {},
   "outputs": [],
   "source": [
    "Maxgain = list()\n",
    "Bestvertices = list()\n",
    "for triangle in Triangles:\n",
    "    best_vertex = np.argmax(np.sum(similarity_matrix[np.ix_(triangle, list(Vertices))], axis=0))\n",
    "    Bestvertices.append(list(Vertices)[best_vertex])\n",
    "    Maxgain.append(np.sum(similarity_matrix[np.ix_(triangle, list(Vertices))], axis=0)[best_vertex])"
   ]
  },
  {
   "cell_type": "code",
   "execution_count": 395,
   "metadata": {},
   "outputs": [],
   "source": [
    "\n",
    "best_vertices_1 = Bestvertices.copy()\n",
    "Triangles_1 = Triangles.copy()\n",
    "Maxgain_1 = Maxgain.copy()\n"
   ]
  },
  {
   "cell_type": "code",
   "execution_count": 396,
   "metadata": {},
   "outputs": [
    {
     "data": {
      "text/plain": [
       "[(9, 11, 13), (9, 11, 25), (9, 13, 25), (11, 13, 25)]"
      ]
     },
     "execution_count": 396,
     "metadata": {},
     "output_type": "execute_result"
    }
   ],
   "source": [
    "Triangles"
   ]
  },
  {
   "cell_type": "code",
   "execution_count": 397,
   "metadata": {},
   "outputs": [
    {
     "data": {
      "text/plain": [
       "[37, 2, 2, 29]"
      ]
     },
     "execution_count": 397,
     "metadata": {},
     "output_type": "execute_result"
    }
   ],
   "source": [
    "Bestvertices"
   ]
  },
  {
   "cell_type": "code",
   "execution_count": 398,
   "metadata": {},
   "outputs": [
    {
     "data": {
      "text/plain": [
       "[np.float64(2.9113153725590566),\n",
       " np.float64(2.9144896682546744),\n",
       " np.float64(2.9167301675236392),\n",
       " np.float64(2.9126138776240387)]"
      ]
     },
     "execution_count": 398,
     "metadata": {},
     "output_type": "execute_result"
    }
   ],
   "source": [
    "Maxgain"
   ]
  },
  {
   "cell_type": "code",
   "execution_count": 399,
   "metadata": {},
   "outputs": [
    {
     "name": "stdout",
     "output_type": "stream",
     "text": [
      "2\n"
     ]
    }
   ],
   "source": [
    "maxgain_index = np.argmax(Maxgain)\n",
    "best_vertex = Bestvertices.pop(maxgain_index)\n",
    "print(best_vertex)"
   ]
  },
  {
   "cell_type": "code",
   "execution_count": 400,
   "metadata": {},
   "outputs": [
    {
     "name": "stdout",
     "output_type": "stream",
     "text": [
      "[1]\n"
     ]
    }
   ],
   "source": [
    "to_update = [idx for idx, vertex in enumerate(Bestvertices) if vertex == best_vertex] # np.where(Bestvertices==best_vertex)\n",
    "print(to_update)"
   ]
  },
  {
   "cell_type": "code",
   "execution_count": 401,
   "metadata": {},
   "outputs": [],
   "source": [
    "Bestvertices = best_vertices_1.copy()\n",
    "Triangles = Triangles_1.copy()\n",
    "Maxgain = Maxgain_1.copy()\n",
    "\n",
    "\n",
    "best_list = []\n",
    "i=0\n",
    "while Vertices:\n",
    "    maxgain_index = np.argmax(Maxgain)\n",
    "    best_vertex = Bestvertices.pop(maxgain_index)\n",
    "    idx_to_update = [idx for idx, vertex in enumerate(Bestvertices) if vertex == best_vertex] # np.where(Bestvertices==best_vertex)\n",
    "    best_list.append(best_vertex)\n",
    "    Vertices.remove(best_vertex)\n",
    "    triangle = Triangles.pop(maxgain_index)\n",
    "    Maxgain.pop(maxgain_index)\n",
    "    best_vertices = [vertex for vertex in triangle] + [int(best_vertex)]\n",
    "    best_triangles = list(itertools.combinations(best_vertices,3))\n",
    "    best_triangles.remove(triangle)\n",
    "    best_triangles\n",
    "    Triangles.extend(best_triangles)\n",
    "    Separators.append(triangle)\n",
    "    Cliquei = best_triangles + [triangle]\n",
    "    P[np.ix_(triangle, triangle)] -= similarity_matrix[np.ix_(triangle, triangle)]\n",
    "    Cliquei_idx = list(set([i for t in Cliquei for i in t]))\n",
    "    P[np.ix_(Cliquei_idx, Cliquei_idx)] += similarity_matrix[np.ix_(Cliquei_idx, Cliquei_idx)]\n",
    "    if not Vertices:\n",
    "        break\n",
    "    for triangle in Triangles[-3:]:\n",
    "        best_vertex = np.argmax(np.sum(similarity_matrix[np.ix_(triangle, list(Vertices))], axis=0))\n",
    "        Bestvertices.append(list(Vertices)[best_vertex])\n",
    "        Maxgain.append(np.sum(similarity_matrix[np.ix_(triangle, list(Vertices))], axis=0)[best_vertex])\n",
    "    for idx in idx_to_update:\n",
    "        best_vertex = np.argmax(np.sum(similarity_matrix[np.ix_(Triangles[idx], list(Vertices))], axis=0))\n",
    "        Bestvertices[idx] = list(Vertices)[best_vertex]\n",
    "        Maxgain[idx] = np.sum(similarity_matrix[np.ix_(Triangles[idx], list(Vertices))], axis=0)[best_vertex]\n",
    "        "
   ]
  },
  {
   "cell_type": "code",
   "execution_count": null,
   "metadata": {},
   "outputs": [],
   "source": []
  }
 ],
 "metadata": {
  "kernelspec": {
   "display_name": "env",
   "language": "python",
   "name": "python3"
  },
  "language_info": {
   "codemirror_mode": {
    "name": "ipython",
    "version": 3
   },
   "file_extension": ".py",
   "mimetype": "text/x-python",
   "name": "python",
   "nbconvert_exporter": "python",
   "pygments_lexer": "ipython3",
   "version": "3.12.3"
  }
 },
 "nbformat": 4,
 "nbformat_minor": 2
}
